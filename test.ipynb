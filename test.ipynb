{
 "cells": [
  {
   "cell_type": "code",
   "execution_count": 283,
   "metadata": {
    "collapsed": true
   },
   "outputs": [],
   "source": [
    "import numpy as np\n",
    "import matplotlib.pyplot as plt\n",
    "import pandas as pd\n",
    "import os\n",
    "import sklearn.covariance as cor\n",
    "\n",
    "import sklearn.svm as svm\n",
    "from sklearn.metrics import classification_report as clf_rpt\n",
    "from sklearn.model_selection import train_test_split\n",
    "from sklearn.svm import SVR\n",
    "from sklearn.linear_model import LinearRegression\n",
    "from sklearn.linear_model import Ridge\n",
    "from sklearn import metrics  \n",
    "from sklearn.model_selection import cross_val_score\n",
    "\n",
    "# os.chdir('/Users/caojiawu/test')\n",
    "data = pd.read_csv('train.csv')\n",
    "\n",
    "#doAgeNull = 0, remove NaN; doAgeNull = 1, Set random value; doAgeNull = 2, Set predicted value;\n",
    "doAgeNull = 2\n",
    "doDummyVar = 1\n",
    "\n",
    "# Multinomial Naive Bayes Classifier    \n",
    "def naive_bayes_classifier(train_x, train_y):     \n",
    "    from sklearn.naive_bayes import MultinomialNB    \n",
    "    model = MultinomialNB(alpha=0.01)    \n",
    "    model.fit(train_x, train_y)    \n",
    "    return model    \n",
    "   \n",
    "    \n",
    "# KNN Classifier    \n",
    "def knn_classifier(train_x, train_y):    \n",
    "    from sklearn.neighbors import KNeighborsClassifier    \n",
    "    model = KNeighborsClassifier()    \n",
    "    model.fit(train_x, train_y)    \n",
    "    return model    \n",
    "    \n",
    "    \n",
    "# Logistic Regression Classifier    \n",
    "def logistic_regression_classifier(train_x, train_y):    \n",
    "    from sklearn.linear_model import LogisticRegression    \n",
    "    model = LogisticRegression(penalty='l2')    \n",
    "    model.fit(train_x, train_y)    \n",
    "    return model    \n",
    "   \n",
    "    \n",
    "# Random Forest Classifier    \n",
    "def random_forest_classifier(train_x, train_y):    \n",
    "    from sklearn.ensemble import RandomForestClassifier    \n",
    "    model = RandomForestClassifier(n_estimators=8)    \n",
    "    model.fit(train_x, train_y)    \n",
    "    return model    \n",
    "    \n",
    "    \n",
    "# Decision Tree Classifier    \n",
    "def decision_tree_classifier(train_x, train_y):    \n",
    "    from sklearn import tree    \n",
    "    model = tree.DecisionTreeClassifier()    \n",
    "    model.fit(train_x, train_y)    \n",
    "    return model    \n",
    "    \n",
    "    \n",
    "# GBDT(Gradient Boosting Decision Tree) Classifier    \n",
    "def gradient_boosting_classifier(train_x, train_y):    \n",
    "    from sklearn.ensemble import GradientBoostingClassifier    \n",
    "    model = GradientBoostingClassifier(n_estimators=200)    \n",
    "    model.fit(train_x, train_y)    \n",
    "    return model    \n",
    "    \n",
    "    \n",
    "# SVM Classifier    \n",
    "def svm_classifier(train_x, train_y):    \n",
    "    from sklearn.svm import SVC    \n",
    "    model = SVC(kernel='rbf', probability=True)    \n",
    "    model.fit(train_x, train_y)    \n",
    "    return model    \n",
    "    \n",
    "# SVM Classifier using cross validation    \n",
    "def svm_cross_validation(train_x, train_y):    \n",
    "    from sklearn.grid_search import GridSearchCV    \n",
    "    from sklearn.svm import SVC    \n",
    "    model = SVC(kernel='rbf', probability=True)    \n",
    "    param_grid = {'C': [1e-3, 1e-2, 1e-1, 1, 10, 100, 1000], 'gamma': [0.001, 0.0001]}    \n",
    "    grid_search = GridSearchCV(model, param_grid, n_jobs = 1, verbose=1)    \n",
    "    grid_search.fit(train_x, train_y)    \n",
    "    best_parameters = grid_search.best_estimator_.get_params()    \n",
    "    for para, val in list(best_parameters.items()):    \n",
    "        print(para, val)    \n",
    "    model = SVC(kernel='rbf', C=best_parameters['C'], gamma=best_parameters['gamma'], probability=True)    \n",
    "    model.fit(train_x, train_y)    \n",
    "    return model    \n",
    "    \n"
   ]
  },
  {
   "cell_type": "markdown",
   "metadata": {},
   "source": [
    "# 把每个年龄存活均值打印出来。需要注意的是部分年龄没有人和没有存活的人是不同的,但图中都显示的是0."
   ]
  },
  {
   "cell_type": "code",
   "execution_count": 284,
   "metadata": {
    "scrolled": true
   },
   "outputs": [
    {
     "data": {
      "image/png": "[encoded data removed]",
      "text/plain": [
       "<matplotlib.figure.Figure at 0xced6668>"
      ]
     },
     "metadata": {},
     "output_type": "display_data"
    }
   ],
   "source": [
    "a = data[data['Age'].notnull()][['Survived','Age']]\n",
    "a['Age'] = a['Age'].astype('int')\n",
    "b=a.groupby('Age').mean()\n",
    "plt.bar(range(len(b)),b['Survived'])\n",
    "plt.show()"
   ]
  },
  {
   "cell_type": "markdown",
   "metadata": {},
   "source": [
    "# 数据清洗，数据补全\n",
    "对于可以利用的数据，如果数据是NaN，可以利用已有数据的统计特征进行最小误差引入的补全.\n",
    "\n",
    "将性别转换为数值型：female=0，male=1.\n",
    "\n",
    "Embarked取值没有连续性，因此将Embarked做哑变量处理，变成三个特征量：EmbarkedS,EmbarkedC,EmbarkedQ,取值为开关量[0,1]\n",
    "\n",
    "Pclass同样做哑变量处理，变成三个特征量，Pclass1,Pclass2,Pclass3.\n",
    "\n"
   ]
  },
  {
   "cell_type": "code",
   "execution_count": 285,
   "metadata": {
    "scrolled": false
   },
   "outputs": [],
   "source": [
    "tempData = data\n",
    "\n",
    "#let female=0 and male=1\n",
    "tempData['Sex'] = tempData['Sex'].apply(lambda x: 0 if x=='female' else 1)\n",
    "\n",
    "if doDummyVar == 1:\n",
    "    tempData['Pclass1']=tempData['Pclass'].apply(lambda x: 1 if x==1 else 0)\n",
    "    tempData['Pclass2']=tempData['Pclass'].apply(lambda x: 1 if x==2 else 0)\n",
    "    tempData['Pclass3']=tempData['Pclass'].apply(lambda x: 1 if x==3 else 0)\n",
    "    tempData = tempData.drop('Pclass',1)\n",
    "\n",
    "    tempData['EmbarkedC']=tempData['Embarked'].apply(lambda x: 1 if x=='C' else 0)\n",
    "    tempData['EmbarkedQ']=tempData['Embarked'].apply(lambda x: 1 if x=='Q' else 0)\n",
    "    tempData['EmbarkedS']=tempData['Embarked'].apply(lambda x: 1 if x=='S' else 0)\n",
    "    tempData = tempData.drop('Embarked',1)\n",
    "else:\n",
    "     tempData['Embarked'] = tempData['Embarked'].map({'C':0,'Q':1,'S':2})\n",
    "#     tempData['Embarked'] = tempData['Embarked'].map({'C':2,'Q':1,'S':0})\n",
    "#     tempData['Embarked'] = tempData['Embarked'].apply(lambda x: 0 if x=='C' else 1 if x=='Q' else 2)\n",
    "tempData = tempData.drop('PassengerId',1)\n",
    "tempData = tempData.drop('Name',1)\n",
    "tempData = tempData.drop('Cabin',1)\n",
    "tempData = tempData.drop('Ticket',1)\n",
    "\n"
   ]
  },
  {
   "cell_type": "markdown",
   "metadata": {},
   "source": [
    "# NaN参数处理测试\n",
    "\n",
    "几种对NaN参数处理的对比：\n",
    "- 直接丢弃包含NaN参数的行\n",
    "\n",
    "直接丢弃会造成样本数减少，损失了有用信息。\n",
    "- 生成随机数填充NaN特征\n",
    "\n",
    "下面的例子用高斯分布（Age均值，Age方差）去生成数据填充NaN列\n",
    "- 利用其他有效特征去预测NaN列的值\n",
    "\n",
    "此例中Age列是有价值的特征。利用其他列的值，选择可能和年龄相关的几列'Survived','SibSp','Fare','Pclass'预测Age列的值。此处用到的是回归算法。\n",
    "注：网上有帖子提到，对于回归模型，根据情况需要做哑变量处理。\n",
    "\n",
    "验证的时候需要注意，预测Age用的训练数据随机选择时，可能会由于选择的训练集合不同得到不同的结果，因此需要多做几个不同的random_state选择，然后与其他补NaN的测试结果对比。\n",
    "做了几次测试后，预测Age值的手段会比随机补NaN的准确性要好。"
   ]
  },
  {
   "cell_type": "code",
   "execution_count": 286,
   "metadata": {
    "scrolled": true
   },
   "outputs": [
    {
     "name": "stdout",
     "output_type": "stream",
     "text": [
      "0.253179319055\n"
     ]
    },
    {
     "name": "stderr",
     "output_type": "stream",
     "text": [
      "C:\\ProgramData\\Anaconda3\\lib\\site-packages\\ipykernel_launcher.py:28: SettingWithCopyWarning: \n",
      "A value is trying to be set on a copy of a slice from a DataFrame\n",
      "\n",
      "See the caveats in the documentation: http://pandas.pydata.org/pandas-docs/stable/indexing.html#indexing-view-versus-copy\n"
     ]
    }
   ],
   "source": [
    "if doAgeNull == 2:\n",
    "    tempData_2 = tempData.dropna(axis=0, how='any', thresh=None, subset=None, inplace=False)\n",
    "    \n",
    "    if doDummyVar == 1:\n",
    "        X_train, X_test,y_train,y_test = train_test_split(\n",
    "#             tempData_2[['Sex','Survived','SibSp','Fare','Pclass1','Pclass2','Pclass3','EmbarkedC','EmbarkedQ','EmbarkedS']],\n",
    "            tempData_2[['Survived','SibSp','Fare','Pclass1','Pclass2','Pclass3']],\n",
    "            tempData_2['Age'],test_size=0.25,random_state=30)\n",
    "    else:\n",
    "        X_train, X_test,y_train,y_test = train_test_split(\n",
    "            tempData_2[['Survived','SibSp','Fare','Pclass']],\n",
    "            tempData_2['Age'],test_size=0.25,random_state=30)        \n",
    "\n",
    "#     model = LinearRegression()\n",
    "#     model = SVR(C=1024,gamma=0.5)\n",
    "    model = Ridge(alpha=1.0)\n",
    "    model.fit(X_train,y_train)\n",
    "\n",
    "    u = model.score(X_test,y_test)\n",
    "    print(u)\n",
    "\n",
    "    m = tempData[tempData['Age'].isnull()]\n",
    "    if doDummyVar == 1:\n",
    "        v = model.predict(m[['Survived','SibSp','Fare','Pclass1','Pclass2','Pclass3']])\n",
    "    else:\n",
    "        v = model.predict(m[['Survived','SibSp','Fare','Pclass']])\n",
    "\n",
    "    tempData['Age'][tempData['Age'].isnull()] = v\n",
    "elif doAgeNull == 1:\n",
    "    meanAge = tempData['Age'].mean()\n",
    "    print(meanAge)\n",
    "    m = tempData['Age'].mean()\n",
    "    s = tempData['Age'].std()\n",
    "    np.random.seed(0)\n",
    "    tempData['Age'][tempData['Age'].isnull()] = tempData[tempData['Age'].isnull()]['Age'].apply(lambda x: np.random.normal(m,s,1))\n",
    "    \n",
    "\n",
    "    "
   ]
  },
  {
   "cell_type": "markdown",
   "metadata": {
    "collapsed": true
   },
   "source": [
    "# 由于对样本做随机划分得到的训练级和测试集训练后的score表现为随机性，使用K折交叉验证\n"
   ]
  },
  {
   "cell_type": "code",
   "execution_count": 287,
   "metadata": {},
   "outputs": [
    {
     "name": "stdout",
     "output_type": "stream",
     "text": [
      "******************* Multinomial_Naive_Bayes ********************\n",
      "cross validation precision: 71.88%, recall: 57.50%\n",
      "cross validation accuracy: 73.56%\n",
      "mean of K-Folds scores:0.738617812443\n",
      "K-Folds scores:[ 0.61744966  0.74496644  0.74496644  0.7027027   0.82432432  0.7972973 ]\n",
      "******************* KNN ********************\n",
      "cross validation precision: 83.17%, recall: 70.00%\n",
      "cross validation accuracy: 82.03%\n",
      "mean of K-Folds scores:0.820462240764\n",
      "K-Folds scores:[ 0.75167785  0.82550336  0.85234899  0.86486486  0.81081081  0.81756757]\n",
      "******************* LR ********************\n",
      "cross validation precision: 80.95%, recall: 70.83%\n",
      "cross validation accuracy: 81.36%\n",
      "mean of K-Folds scores:0.803593022553\n",
      "K-Folds scores:[ 0.76510067  0.81208054  0.83221477  0.78378378  0.7972973   0.83108108]\n",
      "******************* RF ********************\n",
      "cross validation precision: 77.31%, recall: 76.67%\n",
      "cross validation accuracy: 81.36%\n",
      "mean of K-Folds scores:0.82715097648\n",
      "K-Folds scores:[ 0.79865772  0.84563758  0.84563758  0.81756757  0.80405405  0.85135135]\n",
      "******************* DT ********************\n",
      "cross validation precision: 76.86%, recall: 77.50%\n",
      "cross validation accuracy: 81.36%\n",
      "mean of K-Folds scores:0.7912812141\n",
      "K-Folds scores:[ 0.75167785  0.81208054  0.77852349  0.82432432  0.77027027  0.81081081]\n",
      "******************* SVM ********************\n",
      "cross validation precision: 77.78%, recall: 70.00%\n",
      "cross validation accuracy: 79.66%\n",
      "mean of K-Folds scores:0.786701130661\n",
      "K-Folds scores:[ 0.79865772  0.77852349  0.83221477  0.77027027  0.75675676  0.78378378]\n",
      "******************* GBDT ********************\n",
      "cross validation precision: 83.33%, recall: 79.17%\n",
      "cross validation accuracy: 85.08%\n",
      "mean of K-Folds scores:0.848486909729\n",
      "K-Folds scores:[ 0.83221477  0.83221477  0.87919463  0.85135135  0.83783784  0.85810811]\n"
     ]
    }
   ],
   "source": [
    "thresh = 0.5    \n",
    "\n",
    "tempData = tempData.dropna(axis=0, how='any', thresh=None, subset=None, inplace=False)\n",
    "tempData['Age']= tempData['Age'].apply(lambda x: (x-tempData.min()['Age'])/(tempData.max()['Age']-tempData.min()['Age']))\n",
    "tempData['Fare'] = tempData['Fare'].apply(lambda x: (x-tempData.min()['Fare'])/(tempData.max()['Fare']-tempData.min()['Fare']))\n",
    "tempData['SibSp'] = tempData['SibSp'].apply(lambda x: (x-tempData.min()['SibSp'])/(tempData.max()['SibSp']-tempData.min()['SibSp']))\n",
    "tempData['Parch'] = tempData['Parch'].apply(lambda x: (x-tempData.min()['Parch'])/(tempData.max()['Parch']-tempData.min()['Parch']))\n",
    "\n",
    "if doDummyVar == 1:\n",
    "    train_x, test_x,train_y,test_y = train_test_split(\n",
    "            tempData[['Sex','Age','SibSp','Fare','Pclass1','Pclass2','Pclass3','EmbarkedC','EmbarkedQ','EmbarkedS']],\n",
    "            tempData['Survived'],test_size=0.33,random_state=42)\n",
    "else:\n",
    "    train_x, test_x,train_y,test_y = train_test_split(\n",
    "            tempData[['Sex','Age','SibSp','Fare','Pclass','Embarked']],\n",
    "            tempData['Survived'],test_size=0.33,random_state=42)      \n",
    "\n",
    "# train_x =  train_x.astype('float64')\n",
    "# test_x =  test_x.astype('float64')\n",
    "\n",
    "\n",
    "     \n",
    "test_classifiers = ['Multinomial_Naive_Bayes', 'KNN', 'LR', 'RF', 'DT', 'SVM', 'GBDT']    \n",
    "classifiers = {'Multinomial_Naive_Bayes':naive_bayes_classifier,     \n",
    "                  'KNN':knn_classifier,    \n",
    "                   'LR':logistic_regression_classifier,    \n",
    "                   'RF':random_forest_classifier,    \n",
    "                   'DT':decision_tree_classifier,    \n",
    "                  'SVM':svm_classifier,    \n",
    "                 'GBDT':gradient_boosting_classifier    \n",
    "}            \n",
    "\n",
    "accu = []\n",
    "for classifier in test_classifiers:    \n",
    "    print('******************* %s ********************' % classifier)    \n",
    "    model = classifiers[classifier](train_x, train_y)    \n",
    "    predict = model.predict(test_x)    \n",
    "    precision = metrics.precision_score(test_y, predict)    \n",
    "    recall = metrics.recall_score(test_y, predict)    \n",
    "    print('cross validation precision: %.2f%%, recall: %.2f%%' % (100 * precision, 100 * recall))    \n",
    "    accuracy = metrics.accuracy_score(test_y, predict)    \n",
    "    print('cross validation accuracy: %.2f%%' % (100 * accuracy))\n",
    "    accu.append(accuracy)\n",
    "    \n",
    "\n",
    "\n",
    "    if doDummyVar == 1:\n",
    "        scores = cross_val_score(model, \n",
    "                                 tempData[['Sex','Age','SibSp','Fare','Pclass1','Pclass2','Pclass3','EmbarkedC','EmbarkedQ','EmbarkedS']],\n",
    "                                 tempData['Survived'],cv=6)\n",
    "    else:\n",
    "        scores = cross_val_score(model, tempData[['Sex','Age','SibSp','Fare','Pclass','Embarked']],tempData['Survived'],cv=6)\n",
    "       \n",
    "    print('mean of K-Folds scores:'+str(sum(scores)/len(scores)))\n",
    "    print('K-Folds scores:'+str(scores))\n"
   ]
  },
  {
   "cell_type": "code",
   "execution_count": null,
   "metadata": {},
   "outputs": [],
   "source": []
  }
 ],
 "metadata": {
  "kernelspec": {
   "display_name": "Python 3",
   "language": "python",
   "name": "python3"
  },
  "language_info": {
   "codemirror_mode": {
    "name": "ipython",
    "version": 3
   },
   "file_extension": ".py",
   "mimetype": "text/x-python",
   "name": "python",
   "nbconvert_exporter": "python",
   "pygments_lexer": "ipython3",
   "version": "3.6.3"
  }
 },
 "nbformat": 4,
 "nbformat_minor": 2
}
