{
 "cells": [
  {
   "cell_type": "code",
   "execution_count": 1,
   "metadata": {},
   "outputs": [],
   "source": [
    "import numpy as np\n",
    "import matplotlib.pyplot as plt\n",
    "import pandas as pd\n",
    "import os\n",
    "import sklearn.covariance as cor\n",
    "\n",
    "import sklearn.svm as svm\n",
    "from sklearn.metrics import classification_report as clf_rpt\n",
    "from sklearn.model_selection import train_test_split\n",
    "\n",
    "\n",
    "os.chdir('/Users/caojiawu/test')\n",
    "data = pd.read_csv('train.csv')\n",
    "\n",
    "\n"
   ]
  },
  {
   "cell_type": "markdown",
   "metadata": {},
   "source": [
    "# 把每个年龄存活均值打印出来。需要注意的是部分年龄没有人和没有存活的人是不同的,但图中都显示的是0."
   ]
  },
  {
   "cell_type": "code",
   "execution_count": 2,
   "metadata": {},
   "outputs": [
    {
     "data": {
      "image/png": "[encoded data removed]",
      "text/plain": [
       "<matplotlib.figure.Figure at 0x10feecfd0>"
      ]
     },
     "metadata": {},
     "output_type": "display_data"
    }
   ],
   "source": [
    "a = data[data['Age'].notnull()][['Survived','Age']]\n",
    "a['Age'] = a['Age'].astype('int')\n",
    "\n",
    "b=a.groupby('Age').mean()\n",
    "plt.bar(range(len(b)),b['Survived'])\n",
    "plt.show()\n",
    "\n",
    "\n"
   ]
  },
  {
   "cell_type": "code",
   "execution_count": null,
   "metadata": {},
   "outputs": [],
   "source": []
  },
  {
   "cell_type": "markdown",
   "metadata": {},
   "source": [
    "# 数据清洗，数据补全\n",
    "对于可以利用的数据，如果数据是NaN，可以利用已有数据的统计特征进行最小误差引入的补全.\n",
    "\n",
    "将性别转换为数值型：female=0，male=1.\n",
    "\n",
    "Embarked取值没有连续性，因此将Embarked做哑变量处理，变成三个特征量：EmbarkedS,EmbarkedC,EmbarkedQ,取值为开关量[0,1]\n",
    "\n",
    "Pclass同样做哑变量处理，变成三个特征量，Pclass1,Pclass2,Pclass3.\n",
    "\n"
   ]
  },
  {
   "cell_type": "code",
   "execution_count": 3,
   "metadata": {
    "scrolled": false
   },
   "outputs": [],
   "source": [
    "tempData = data\n",
    "\n",
    "#let female=0 and male=1\n",
    "tempData['Sex'] = tempData['Sex'].apply(lambda x: 0 if x=='female' else 1)\n",
    "\n",
    "tempData['Pclass1']=tempData['Pclass'].apply(lambda x: 1 if x==1 else 0)\n",
    "tempData['Pclass2']=tempData['Pclass'].apply(lambda x: 1 if x==2 else 0)\n",
    "tempData['Pclass3']=tempData['Pclass'].apply(lambda x: 1 if x==3 else 0)\n",
    "\n",
    "tempData['EmbarkedC']=tempData['Embarked'].apply(lambda x: 1 if x=='C' else 0)\n",
    "tempData['EmbarkedQ']=tempData['Embarked'].apply(lambda x: 1 if x=='Q' else 0)\n",
    "tempData['EmbarkedS']=tempData['Embarked'].apply(lambda x: 1 if x=='S' else 0)\n",
    "\n",
    "\n",
    "tempData = tempData.drop('PassengerId',1)\n",
    "tempData = tempData.drop('Name',1)\n",
    "tempData = tempData.drop('Cabin',1)\n",
    "tempData = tempData.drop('Ticket',1)\n",
    "tempData = tempData.drop('Pclass',1)\n",
    "tempData = tempData.drop('Embarked',1)\n",
    "\n"
   ]
  },
  {
   "cell_type": "markdown",
   "metadata": {},
   "source": [
    "# 数据清洗，数据补全\n",
    "对于无法补全的数据，如果数据为NaN则丢弃整行。"
   ]
  },
  {
   "cell_type": "markdown",
   "metadata": {},
   "source": [
    "# 对于NaN列，利用其他列的值去预测该值。通过该处理希望可以控制补NaN引入的误差。"
   ]
  },
  {
   "cell_type": "code",
   "execution_count": 4,
   "metadata": {},
   "outputs": [
    {
     "name": "stdout",
     "output_type": "stream",
     "text": [
      "0.229797708712\n"
     ]
    },
    {
     "name": "stderr",
     "output_type": "stream",
     "text": [
      "/Users/caojiawu/anaconda3/lib/python3.6/site-packages/ipykernel_launcher.py:22: SettingWithCopyWarning: \n",
      "A value is trying to be set on a copy of a slice from a DataFrame\n",
      "\n",
      "See the caveats in the documentation: http://pandas.pydata.org/pandas-docs/stable/indexing.html#indexing-view-versus-copy\n"
     ]
    }
   ],
   "source": [
    "\n",
    "tempData_2 = tempData.dropna(axis=0, how='any', thresh=None, subset=None, inplace=False)\n",
    "\n",
    "X_train, X_test,y_train,y_test = train_test_split(\n",
    "    tempData_2[['Sex','Survived','SibSp','Fare','Pclass1','Pclass2','Pclass3','EmbarkedC','EmbarkedQ','EmbarkedS']],\n",
    "    tempData_2['Age'],test_size=0.25,random_state=35)\n",
    "\n",
    "from sklearn.svm import SVR\n",
    "from sklearn.linear_model import LinearRegression\n",
    "from sklearn.linear_model import Ridge\n",
    "model = LinearRegression()\n",
    "#model = SVR(C=1024,gamma=0.5)\n",
    "model = Ridge(alpha=1.0)\n",
    "model.fit(X_train,y_train)\n",
    "\n",
    "u = model.score(X_test,y_test)\n",
    "print(u)\n",
    "\n",
    "m = tempData[tempData['Age'].isnull()]\n",
    "v = model.predict(m[['Sex','Survived','SibSp','Fare','Pclass1','Pclass2','Pclass3','EmbarkedC','EmbarkedQ','EmbarkedS']])\n",
    "\n",
    "tempData['Age'][tempData['Age'].isnull()] = v"
   ]
  },
  {
   "cell_type": "code",
   "execution_count": 12,
   "metadata": {},
   "outputs": [
    {
     "data": {
      "text/plain": [
       "-0.3384810359610147"
      ]
     },
     "execution_count": 12,
     "metadata": {},
     "output_type": "execute_result"
    }
   ],
   "source": [
    "data[['Survived','Pclass']].groupby('Pclass').mean()\n",
    "data[['Survived','Embarked']].groupby('Embarked').mean()\n",
    "data[['Survived','Sex']].groupby('Sex').mean()\n",
    "data['Pclass'].corr(data['Survived'])"
   ]
  },
  {
   "cell_type": "code",
   "execution_count": 11,
   "metadata": {},
   "outputs": [
    {
     "name": "stdout",
     "output_type": "stream",
     "text": [
      "gbdt:0.850847457627\n",
      "             precision    recall  f1-score   support\n",
      "\n",
      "          0       0.95      0.83      0.89       206\n",
      "          1       0.70      0.89      0.78        89\n",
      "\n",
      "avg / total       0.87      0.85      0.86       295\n",
      "\n",
      "LogisticRegression:0.789830508475\n",
      "             precision    recall  f1-score   support\n",
      "\n",
      "          0       0.88      0.80      0.84       200\n",
      "          1       0.65      0.77      0.70        95\n",
      "\n",
      "avg / total       0.80      0.79      0.79       295\n",
      "\n",
      "RandomForestClassifier:0.816949152542\n",
      "             precision    recall  f1-score   support\n",
      "\n",
      "          0       0.92      0.81      0.86       208\n",
      "          1       0.65      0.84      0.73        87\n",
      "\n",
      "avg / total       0.84      0.82      0.82       295\n",
      "\n",
      "DecisionTree:0.813559322034\n",
      "             precision    recall  f1-score   support\n",
      "\n",
      "          0       0.88      0.83      0.85       195\n",
      "          1       0.70      0.79      0.74       100\n",
      "\n",
      "avg / total       0.82      0.81      0.82       295\n",
      "\n",
      "SVC:0.738983050847\n",
      "             precision    recall  f1-score   support\n",
      "\n",
      "          0       0.81      0.78      0.79       189\n",
      "          1       0.63      0.67      0.65       106\n",
      "\n",
      "avg / total       0.74      0.74      0.74       295\n",
      "\n",
      "KNeighborsClassifier:0.732203389831\n",
      "             precision    recall  f1-score   support\n",
      "\n",
      "          0       0.77      0.79      0.78       179\n",
      "          1       0.66      0.65      0.66       116\n",
      "\n",
      "avg / total       0.73      0.73      0.73       295\n",
      "\n",
      "MultinomialNB:0.694915254237\n",
      "             precision    recall  f1-score   support\n",
      "\n",
      "          0       0.85      0.71      0.77       216\n",
      "          1       0.45      0.65      0.53        79\n",
      "\n",
      "avg / total       0.74      0.69      0.71       295\n",
      "\n"
     ]
    }
   ],
   "source": [
    "tempData = tempData.dropna(axis=0, how='any', thresh=None, subset=None, inplace=False)\n",
    "\n",
    "X_train, X_test,y_train,y_test = train_test_split(\n",
    "    tempData[['Sex','Age','SibSp','Fare','Pclass1','Pclass2','Pclass3','EmbarkedC','EmbarkedQ','EmbarkedS']],\n",
    "    tempData['Survived'],test_size=0.33,random_state=None)\n",
    "\n",
    "X_train =  X_train.astype('float64')\n",
    "X_test =  X_test.astype('float64')\n",
    "\n",
    "from sklearn.ensemble import GradientBoostingClassifier as gbdt\n",
    "model = gbdt(n_estimators=200)\n",
    "model.fit(X_train,y_train)\n",
    "print('gbdt:'+str(model.score(X_test,y_test)))\n",
    "p = model.predict(X_test)\n",
    "print(clf_rpt(p,y_test))\n",
    "\n",
    "from sklearn.linear_model import LogisticRegression \n",
    "model = LogisticRegression(penalty='l2')\n",
    "model.fit(X_train,y_train)\n",
    "print('LogisticRegression:'+str(model.score(X_test,y_test)))\n",
    "p = model.predict(X_test)\n",
    "print(clf_rpt(p,y_test))\n",
    "\n",
    "from sklearn.ensemble import RandomForestClassifier    \n",
    "model = RandomForestClassifier(n_estimators=8) \n",
    "model.fit(X_train,y_train)\n",
    "print('RandomForestClassifier:'+str(model.score(X_test,y_test)))\n",
    "p = model.predict(X_test)\n",
    "print(clf_rpt(p,y_test))\n",
    "\n",
    "from sklearn import tree    \n",
    "model = tree.DecisionTreeClassifier()\n",
    "model.fit(X_train,y_train)\n",
    "print('DecisionTree:'+str(model.score(X_test,y_test)))\n",
    "p = model.predict(X_test)\n",
    "print(clf_rpt(p,y_test))\n",
    "\n",
    "from sklearn.svm import SVC    \n",
    "model = SVC(kernel='rbf', probability=True)   \n",
    "model.fit(X_train,y_train)\n",
    "print('SVC:'+str(model.score(X_test,y_test)))\n",
    "p = model.predict(X_test)\n",
    "print(clf_rpt(p,y_test))\n",
    "\n",
    "from sklearn.neighbors import KNeighborsClassifier    \n",
    "model = KNeighborsClassifier() \n",
    "model.fit(X_train,y_train)\n",
    "print('KNeighborsClassifier:'+str(model.score(X_test,y_test)))\n",
    "p = model.predict(X_test)\n",
    "print(clf_rpt(p,y_test))\n",
    "\n",
    "from sklearn.naive_bayes import MultinomialNB    \n",
    "model = MultinomialNB(alpha=0.01)  \n",
    "X_train['Age'] = X_train['Age'].apply(lambda x: 0 if x < 0 else x)\n",
    "model.fit(X_train,y_train)\n",
    "print('MultinomialNB:'+str(model.score(X_test,y_test)))\n",
    "p = model.predict(X_test)\n",
    "print(clf_rpt(p,y_test))"
   ]
  },
  {
   "cell_type": "code",
   "execution_count": 227,
   "metadata": {},
   "outputs": [
    {
     "data": {
      "text/html": [
       "<div>\n",
       "<style>\n",
       "    .dataframe thead tr:only-child th {\n",
       "        text-align: right;\n",
       "    }\n",
       "\n",
       "    .dataframe thead th {\n",
       "        text-align: left;\n",
       "    }\n",
       "\n",
       "    .dataframe tbody tr th {\n",
       "        vertical-align: top;\n",
       "    }\n",
       "</style>\n",
       "<table border=\"1\" class=\"dataframe\">\n",
       "  <thead>\n",
       "    <tr style=\"text-align: right;\">\n",
       "      <th></th>\n",
       "      <th>Sex</th>\n",
       "      <th>Age</th>\n",
       "      <th>SibSp</th>\n",
       "      <th>Fare</th>\n",
       "      <th>Pclass1</th>\n",
       "      <th>Pclass2</th>\n",
       "      <th>Pclass3</th>\n",
       "      <th>EmbarkedC</th>\n",
       "      <th>EmbarkedQ</th>\n",
       "      <th>EmbarkedS</th>\n",
       "    </tr>\n",
       "  </thead>\n",
       "  <tbody>\n",
       "    <tr>\n",
       "      <th>846</th>\n",
       "      <td>1.0</td>\n",
       "      <td>-8.464977</td>\n",
       "      <td>8.0</td>\n",
       "      <td>69.55</td>\n",
       "      <td>0.0</td>\n",
       "      <td>0.0</td>\n",
       "      <td>1.0</td>\n",
       "      <td>0.0</td>\n",
       "      <td>0.0</td>\n",
       "      <td>1.0</td>\n",
       "    </tr>\n",
       "    <tr>\n",
       "      <th>201</th>\n",
       "      <td>1.0</td>\n",
       "      <td>-8.464977</td>\n",
       "      <td>8.0</td>\n",
       "      <td>69.55</td>\n",
       "      <td>0.0</td>\n",
       "      <td>0.0</td>\n",
       "      <td>1.0</td>\n",
       "      <td>0.0</td>\n",
       "      <td>0.0</td>\n",
       "      <td>1.0</td>\n",
       "    </tr>\n",
       "  </tbody>\n",
       "</table>\n",
       "</div>"
      ],
      "text/plain": [
       "     Sex       Age  SibSp   Fare  Pclass1  Pclass2  Pclass3  EmbarkedC  \\\n",
       "846  1.0 -8.464977    8.0  69.55      0.0      0.0      1.0        0.0   \n",
       "201  1.0 -8.464977    8.0  69.55      0.0      0.0      1.0        0.0   \n",
       "\n",
       "     EmbarkedQ  EmbarkedS  \n",
       "846        0.0        1.0  \n",
       "201        0.0        1.0  "
      ]
     },
     "execution_count": 227,
     "metadata": {},
     "output_type": "execute_result"
    }
   ],
   "source": [
    "X_train[X_train['Age']<0]"
   ]
  }
 ],
 "metadata": {
  "kernelspec": {
   "display_name": "Python 3",
   "language": "python",
   "name": "python3"
  },
  "language_info": {
   "codemirror_mode": {
    "name": "ipython",
    "version": 3
   },
   "file_extension": ".py",
   "mimetype": "text/x-python",
   "name": "python",
   "nbconvert_exporter": "python",
   "pygments_lexer": "ipython3",
   "version": "3.6.3"
  }
 },
 "nbformat": 4,
 "nbformat_minor": 2
}
