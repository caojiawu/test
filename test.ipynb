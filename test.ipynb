{
 "cells": [
  {
   "cell_type": "code",
   "execution_count": 27,
   "metadata": {
    "collapsed": true
   },
   "outputs": [],
   "source": [
    "import numpy as np\n",
    "import matplotlib.pyplot as plt\n",
    "import pandas as pd\n",
    "import os\n",
    "import sklearn.covariance as cor\n",
    "\n",
    "import sklearn.svm as svm\n",
    "from sklearn.metrics import classification_report as clf_rpt\n",
    "from sklearn.model_selection import train_test_split\n",
    "from sklearn.svm import SVR\n",
    "from sklearn.linear_model import LinearRegression\n",
    "from sklearn.linear_model import Ridge\n",
    "\n",
    "os.chdir('/Users/caojiawu/test')\n",
    "data = pd.read_csv('train.csv')"
   ]
  },
  {
   "cell_type": "markdown",
   "metadata": {},
   "source": [
    "# 把每个年龄存活均值打印出来。需要注意的是部分年龄没有人和没有存活的人是不同的,但图中都显示的是0."
   ]
  },
  {
   "cell_type": "code",
   "execution_count": 28,
   "metadata": {},
   "outputs": [
    {
     "data": {
      "image/png": "[encoded data removed]",
      "text/plain": [
       "<matplotlib.figure.Figure at 0x1a0aa76908>"
      ]
     },
     "metadata": {},
     "output_type": "display_data"
    }
   ],
   "source": [
    "a = data[data['Age'].notnull()][['Survived','Age']]\n",
    "a['Age'] = a['Age'].astype('int')\n",
    "\n",
    "b=a.groupby('Age').mean()\n",
    "plt.bar(range(len(b)),b['Survived'])\n",
    "plt.show()"
   ]
  },
  {
   "cell_type": "code",
   "execution_count": null,
   "metadata": {
    "collapsed": true
   },
   "outputs": [],
   "source": []
  },
  {
   "cell_type": "markdown",
   "metadata": {},
   "source": [
    "# 数据清洗，数据补全\n",
    "对于可以利用的数据，如果数据是NaN，可以利用已有数据的统计特征进行最小误差引入的补全.\n",
    "\n",
    "将性别转换为数值型：female=0，male=1.\n",
    "\n",
    "Embarked取值没有连续性，因此将Embarked做哑变量处理，变成三个特征量：EmbarkedS,EmbarkedC,EmbarkedQ,取值为开关量[0,1]\n",
    "\n",
    "Pclass同样做哑变量处理，变成三个特征量，Pclass1,Pclass2,Pclass3.\n",
    "\n"
   ]
  },
  {
   "cell_type": "code",
   "execution_count": 29,
   "metadata": {
    "collapsed": true,
    "scrolled": false
   },
   "outputs": [],
   "source": [
    "tempData = data\n",
    "\n",
    "#let female=0 and male=1\n",
    "tempData['Sex'] = tempData['Sex'].apply(lambda x: 0 if x=='female' else 1)\n",
    "\n",
    "tempData['Pclass1']=tempData['Pclass'].apply(lambda x: 1 if x==1 else 0)\n",
    "tempData['Pclass2']=tempData['Pclass'].apply(lambda x: 1 if x==2 else 0)\n",
    "tempData['Pclass3']=tempData['Pclass'].apply(lambda x: 1 if x==3 else 0)\n",
    "\n",
    "tempData['EmbarkedC']=tempData['Embarked'].apply(lambda x: 1 if x=='C' else 0)\n",
    "tempData['EmbarkedQ']=tempData['Embarked'].apply(lambda x: 1 if x=='Q' else 0)\n",
    "tempData['EmbarkedS']=tempData['Embarked'].apply(lambda x: 1 if x=='S' else 0)\n",
    "\n",
    "tempData = tempData.drop('PassengerId',1)\n",
    "tempData = tempData.drop('Name',1)\n",
    "tempData = tempData.drop('Cabin',1)\n",
    "tempData = tempData.drop('Ticket',1)\n",
    "tempData = tempData.drop('Pclass',1)\n",
    "tempData = tempData.drop('Embarked',1)"
   ]
  },
  {
   "cell_type": "markdown",
   "metadata": {},
   "source": [
    "# 对于NaN列，利用其他列的值去预测该值。通过该处理希望可以控制补NaN引入的误差。"
   ]
  },
  {
   "cell_type": "code",
   "execution_count": 30,
   "metadata": {},
   "outputs": [
    {
     "name": "stdout",
     "output_type": "stream",
     "text": [
      "0.326336735283\n"
     ]
    },
    {
     "name": "stderr",
     "output_type": "stream",
     "text": [
      "/Users/caojiawu/anaconda3/lib/python3.6/site-packages/ipykernel_launcher.py:19: SettingWithCopyWarning: \n",
      "A value is trying to be set on a copy of a slice from a DataFrame\n",
      "\n",
      "See the caveats in the documentation: http://pandas.pydata.org/pandas-docs/stable/indexing.html#indexing-view-versus-copy\n"
     ]
    }
   ],
   "source": [
    "\n",
    "tempData_2 = tempData.dropna(axis=0, how='any', thresh=None, subset=None, inplace=False)\n",
    "\n",
    "X_train, X_test,y_train,y_test = train_test_split(\n",
    "    tempData_2[['Sex','Survived','SibSp','Fare','Pclass1','Pclass2','Pclass3','EmbarkedC','EmbarkedQ','EmbarkedS']],\n",
    "    tempData_2['Age'],test_size=0.25,random_state=None)\n",
    "\n",
    "model = LinearRegression()\n",
    "#model = SVR(C=1024,gamma=0.5)\n",
    "model = Ridge(alpha=1.0)\n",
    "model.fit(X_train,y_train)\n",
    "\n",
    "u = model.score(X_test,y_test)\n",
    "print(u)\n",
    "\n",
    "m = tempData[tempData['Age'].isnull()]\n",
    "v = model.predict(m[['Sex','Survived','SibSp','Fare','Pclass1','Pclass2','Pclass3','EmbarkedC','EmbarkedQ','EmbarkedS']])\n",
    "\n",
    "tempData['Age'][tempData['Age'].isnull()] = v"
   ]
  },
  {
   "cell_type": "code",
   "execution_count": 40,
   "metadata": {},
   "outputs": [
    {
     "name": "stdout",
     "output_type": "stream",
     "text": [
      "gbdt:0.850847457627\n",
      "             precision    recall  f1-score   support\n",
      "\n",
      "          0       0.90      0.84      0.87       179\n",
      "          1       0.78      0.86      0.82       116\n",
      "\n",
      "avg / total       0.86      0.85      0.85       295\n",
      "\n",
      "LogisticRegression:0.8\n",
      "             precision    recall  f1-score   support\n",
      "\n",
      "          0       0.86      0.80      0.83       180\n",
      "          1       0.72      0.80      0.76       115\n",
      "\n",
      "avg / total       0.81      0.80      0.80       295\n",
      "\n",
      "RandomForestClassifier:0.813559322034\n",
      "             precision    recall  f1-score   support\n",
      "\n",
      "          0       0.88      0.81      0.84       182\n",
      "          1       0.73      0.82      0.77       113\n",
      "\n",
      "avg / total       0.82      0.81      0.82       295\n",
      "\n",
      "DecisionTree:0.783050847458\n",
      "             precision    recall  f1-score   support\n",
      "\n",
      "          0       0.82      0.80      0.81       171\n",
      "          1       0.73      0.76      0.75       124\n",
      "\n",
      "avg / total       0.78      0.78      0.78       295\n",
      "\n",
      "SVC:0.793220338983\n",
      "             precision    recall  f1-score   support\n",
      "\n",
      "          0       0.86      0.79      0.82       180\n",
      "          1       0.71      0.79      0.75       115\n",
      "\n",
      "avg / total       0.80      0.79      0.79       295\n",
      "\n",
      "KNeighborsClassifier:0.806779661017\n",
      "             precision    recall  f1-score   support\n",
      "\n",
      "          0       0.86      0.81      0.83       178\n",
      "          1       0.73      0.80      0.77       117\n",
      "\n",
      "avg / total       0.81      0.81      0.81       295\n",
      "\n"
     ]
    }
   ],
   "source": [
    "tempData = tempData.dropna(axis=0, how='any', thresh=None, subset=None, inplace=False)\n",
    "\n",
    "X_train, X_test,y_train,y_test = train_test_split(\n",
    "    tempData[['Sex','Age','SibSp','Fare','Pclass1','Pclass2','Pclass3','EmbarkedC','EmbarkedQ','EmbarkedS']],\n",
    "    tempData['Survived'],test_size=0.33,random_state=None)\n",
    "\n",
    "X_train =  X_train.astype('float64')\n",
    "X_test =  X_test.astype('float64')\n",
    "\n",
    "tempData['Age'] = tempData['Age'].apply(lambda x: (x-tempData.mean()['Age'])/(tempData.std()['Age']))\n",
    "tempData['Fare'] = tempData['Fare'].apply(lambda x: (x-tempData.mean()['Fare'])/(tempData.std()['Fare']))\n",
    "#tempData['Parch'] = tempData['Parch'].apply(lambda x: (x-tempData.min()['Parch'])/(tempData.max()['Parch']-tempData.min()['Parch']))\n",
    "#tempData['SibSp'] = tempData['SibSp'].apply(lambda x: (x-tempData.min()['SibSp'])/(tempData.max()['SibSp']-tempData.min()['SibSp']))\n",
    "\n",
    "from sklearn.ensemble import GradientBoostingClassifier as gbdt\n",
    "model = gbdt(n_estimators=200)\n",
    "model.fit(X_train,y_train)\n",
    "print('gbdt:'+str(model.score(X_test,y_test)))\n",
    "p = model.predict(X_test)\n",
    "print(clf_rpt(p,y_test))\n",
    "\n",
    "from sklearn.linear_model import LogisticRegression \n",
    "model = LogisticRegression(penalty='l2')\n",
    "model.fit(X_train,y_train)\n",
    "print('LogisticRegression:'+str(model.score(X_test,y_test)))\n",
    "p = model.predict(X_test)\n",
    "print(clf_rpt(p,y_test))\n",
    "\n",
    "from sklearn.ensemble import RandomForestClassifier    \n",
    "model = RandomForestClassifier(n_estimators=8) \n",
    "model.fit(X_train,y_train)\n",
    "print('RandomForestClassifier:'+str(model.score(X_test,y_test)))\n",
    "p = model.predict(X_test)\n",
    "print(clf_rpt(p,y_test))\n",
    "\n",
    "from sklearn import tree    \n",
    "model = tree.DecisionTreeClassifier()\n",
    "model.fit(X_train,y_train)\n",
    "print('DecisionTree:'+str(model.score(X_test,y_test)))\n",
    "p = model.predict(X_test)\n",
    "print(clf_rpt(p,y_test))\n",
    "\n",
    "from sklearn.svm import SVC    \n",
    "model = SVC(kernel='rbf', probability=True)   \n",
    "model.fit(X_train,y_train)\n",
    "print('SVC:'+str(model.score(X_test,y_test)))\n",
    "p = model.predict(X_test)\n",
    "print(clf_rpt(p,y_test))\n",
    "\n",
    "from sklearn.neighbors import KNeighborsClassifier    \n",
    "model = KNeighborsClassifier() \n",
    "model.fit(X_train,y_train)\n",
    "print('KNeighborsClassifier:'+str(model.score(X_test,y_test)))\n",
    "p = model.predict(X_test)\n",
    "print(clf_rpt(p,y_test))"
   ]
  },
  {
   "cell_type": "code",
   "execution_count": null,
   "metadata": {},
   "outputs": [],
   "source": []
  }
 ],
 "metadata": {
  "kernelspec": {
   "display_name": "Python 3",
   "language": "python",
   "name": "python3"
  },
  "language_info": {
   "codemirror_mode": {
    "name": "ipython",
    "version": 3
   },
   "file_extension": ".py",
   "mimetype": "text/x-python",
   "name": "python",
   "nbconvert_exporter": "python",
   "pygments_lexer": "ipython3",
   "version": "3.6.3"
  }
 },
 "nbformat": 4,
 "nbformat_minor": 2
}
